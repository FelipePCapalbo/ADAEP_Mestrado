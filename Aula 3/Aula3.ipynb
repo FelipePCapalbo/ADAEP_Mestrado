{
  "nbformat": 4,
  "nbformat_minor": 0,
  "metadata": {
    "colab": {
      "provenance": []
    },
    "kernelspec": {
      "name": "python3",
      "display_name": "Python 3"
    },
    "language_info": {
      "name": "python"
    }
  },
  "cells": [
    {
      "cell_type": "markdown",
      "source": [
        "#Tipos de Distribuições de Probabilidade\n",
        "\n"
      ],
      "metadata": {
        "id": "vB80HZxuAZIG"
      }
    },
    {
      "cell_type": "markdown",
      "source": [
        "#Tipo de dados\n",
        "\n",
        "## Vetor: Geralmente uma lista\n",
        "Item com uma dimensão\n",
        "Exemplo\n",
        "```\n",
        "Vector = [x for x in range(1000)]\n",
        "\n",
        "uniform = [200 * random.random() - 100 for _ in range(10000)]\n",
        "\n",
        "normal =  [random.gauss(0, 60) for _ in range(10000)]\n",
        "```\n",
        "\n"
      ],
      "metadata": {
        "id": "gDCBzQpD8Ocp"
      }
    },
    {
      "cell_type": "code",
      "source": [
        "import random\n",
        "\n",
        "from scipy.stats import norm\n",
        "from collections import Counter\n",
        "import math\n",
        "import matplotlib.pyplot as plt\n",
        "\n",
        "random.seed(0)\n",
        "\n",
        "Vector = [x for x in range(1000)]\n",
        "# uniforme entre –100 e 100\n",
        "uniform = [200 * random.random() - 100 for _ in range(10000)]\n",
        "\n",
        "# distribuição normal com média 0, desvio padrão 60\n",
        "normal =  [random.gauss(0, 60) for _ in range(10000)]\n",
        "\n",
        "print(Vector)\n",
        "print(uniform)\n",
        "print(normal)\n",
        "\n"
      ],
      "metadata": {
        "id": "cIOOldJ58PPR"
      },
      "execution_count": null,
      "outputs": []
    },
    {
      "cell_type": "markdown",
      "source": [
        "#Dados Simples\n",
        "\n",
        "##Média\n",
        "### Método Raiz\n",
        "soma = 0\n",
        "for i in Vector:\n",
        "  soma = soma + i\n",
        "print(f'Média: {soma/len(Vector}')\n",
        "\n",
        "##Menor\n",
        "##Maior\n",
        "\n",
        "\n",
        "```\n",
        "# Isto está formatado como código\n",
        "```\n",
        "\n"
      ],
      "metadata": {
        "id": "Lxs085e7raa7"
      }
    },
    {
      "cell_type": "code",
      "source": [
        "soma = 0\n",
        "for i in Vector:\n",
        "  soma = soma + i\n",
        "print(f'Média: {soma/len(Vector)}')\n",
        "\n",
        "import numpy as np\n",
        "\n",
        "print(f'Média: {np.mean(Vector)}')\n",
        "print(f'Desvio {np.std(Vector)}')\n",
        "print(f'Maior: {np.max(Vector)}')\n",
        "print(f'Menor: {np.min(Vector)}')\n",
        "print(f'Mediana: {np.median(Vector)}')\n",
        "\n",
        "# Calcola i quartili\n",
        "Q1 = np.percentile(Vector, 25)\n",
        "Q2 = np.percentile(Vector, 50)\n",
        "Q3 = np.percentile(Vector, 75)\n",
        "\n",
        "plt.boxplot([Vector,normal])\n",
        "plt.show()\n"
      ],
      "metadata": {
        "id": "LR7TYWxQsJ3a"
      },
      "execution_count": null,
      "outputs": []
    },
    {
      "cell_type": "markdown",
      "source": [],
      "metadata": {
        "id": "_n2EDOnDsJXi"
      }
    },
    {
      "cell_type": "code",
      "execution_count": null,
      "metadata": {
        "id": "WZDMq1lR8N-K"
      },
      "outputs": [],
      "source": [
        "def bucketize(point, bucket_size):\n",
        "  #print(f\"{point} - {bucket_size} - {bucket_size * math.floor(point / bucket_size)}\")\n",
        "  return bucket_size * math.floor(point / bucket_size)\n",
        "\n",
        "\n",
        "def make_histogram(points, bucket_size):\n",
        "  colecao = [bucketize(point, bucket_size) for point in points]\n",
        "  print(colecao)\n",
        "  print(Counter(colecao))\n",
        "  return Counter(colecao)\n",
        "\n",
        "def plot_histogram(points, bucket_size, title=\"\"):\n",
        "  histogram = make_histogram(points, bucket_size)\n",
        "  plt.bar(histogram.keys(), histogram.values(), width=bucket_size)\n",
        "  plt.title(title)\n",
        "  plt.show()"
      ]
    },
    {
      "cell_type": "markdown",
      "source": [],
      "metadata": {
        "id": "NxbSRlA8oTid"
      }
    },
    {
      "cell_type": "code",
      "source": [
        "plot_histogram(uniform, 10, \"Histograma de Uniform\")\n",
        "plot_histogram(normal, 10, \"Histograma Normal\")"
      ],
      "metadata": {
        "id": "9KHoc5IvA7B0"
      },
      "execution_count": null,
      "outputs": []
    },
    {
      "cell_type": "markdown",
      "source": [
        "# Correlação\n",
        "\n",
        "## 1️⃣ O que é correlação?\n",
        "\n",
        "Correlação é uma **medida estatística** que indica o **grau de relacionamento entre duas variáveis**. Ela responde à pergunta:\n",
        "\n",
        "> \"Quando uma variável muda, a outra tende a mudar também? E em que direção?\"\n",
        "\n",
        "- **Direção positiva:** quando uma variável aumenta, a outra também tende a aumentar.  \n",
        "- **Direção negativa:** quando uma variável aumenta, a outra tende a diminuir.  \n",
        "- **Sem correlação:** não há um padrão consistente de mudança entre as variáveis.\n",
        "\n",
        "---\n",
        "\n",
        "## 2️⃣ Coeficientes de correlação\n",
        "\n",
        "Existem vários métodos para medir correlação:\n",
        "# Comparação de métodos de correlação\n",
        "\n",
        "| Método      | Tipo de correlação         | Base de cálculo                          | Sensível a | Uso típico                                   | Valor |\n",
        "|------------|---------------------------|-----------------------------------------|------------|---------------------------------------------|-------|\n",
        "| **Pearson** | Linear (paramétrica)       | Covariância e desvio padrão             | Somente relações lineares e outliers | Dados contínuos, relação linear            | -1 a 1 |\n",
        "| **Spearman**| Monotônica (não paramétrica)| Diferenças nos ranks                     | Outliers moderados, empates leves | Dados contínuos ou ordinais, relação monotônica | -1 a 1 |\n",
        "| **Kendall** | Monotônica (não paramétrica)| Pares concordantes e discordantes       | Pequenos datasets, empates           | Dados ordinais, datasets pequenos ou muitos empates | -1 a 1 |\n",
        "**Interpretação do coeficiente (r):**  \n",
        "\n",
        "- `r = 1` → correlação positiva perfeita  \n",
        "- `r = -1` → correlação negativa perfeita  \n",
        "- `r = 0` → nenhuma correlação linear aparente  \n",
        "- Valores entre -1 e 1 indicam intensidade e direção da relação\n",
        "\n",
        "# Intensidade da Correlação\n",
        "\n",
        "| Valor absoluto de r | Intensidade da correlação | Interpretação |\n",
        "|-------------------|--------------------------|---------------|\n",
        "| 0,00 a 0,19       | Muito fraca ou inexistente | Praticamente nenhuma relação |\n",
        "| 0,20 a 0,39       | Fraca                     | Relação fraca entre as variáveis |\n",
        "| 0,40 a 0,59       | Moderada                  | Relação moderada, perceptível |\n",
        "| 0,60 a 0,79       | Forte                     | Relação forte, clara tendência |\n",
        "| 0,80 a 1,00       | Muito forte               | Relação muito clara, quase perfeita |\n",
        "\n",
        "\n"
      ],
      "metadata": {
        "id": "aUrQ14dpDGZ_"
      }
    },
    {
      "cell_type": "code",
      "source": [
        "def random_normal():\n",
        "  return norm.ppf(random.random())\n",
        "\n",
        "xs = [random_normal() for _ in range(1000)]\n",
        "ys1 = [ x  + random_normal() /4 for x in xs]\n",
        "ys2 = [-x  + random_normal() /4 for x in xs]"
      ],
      "metadata": {
        "id": "fpdmBBUII6N4"
      },
      "execution_count": null,
      "outputs": []
    },
    {
      "cell_type": "code",
      "source": [
        "plt.scatter(xs, ys1, marker='.', color='blue', label='ys1')\n",
        "plt.scatter(xs, ys2, marker='.', color='green', label='ys2')\n",
        "plt.xlabel('xs')\n",
        "plt.ylabel('ys')\n",
        "plt.legend(loc=9)\n",
        "plt.title(\"Distribuições Conjuntas Muito Diferentes\")\n",
        "plt.show()"
      ],
      "metadata": {
        "id": "7svWWgf6Je0Y"
      },
      "execution_count": null,
      "outputs": []
    },
    {
      "cell_type": "code",
      "source": [
        "# prompt: Faça um programa que imprima a correlação entre xs e ys1 e xs e ys3\n",
        "\n",
        "import numpy as np\n",
        "\n",
        "# Calcular a correlação entre xs e ys1\n",
        "correlation_xs_ys1 = np.corrcoef(xs, ys1)[0, 1]\n",
        "print(f\"Correlação entre xs e ys1: {correlation_xs_ys1}\")\n",
        "\n",
        "# Calcular a correlação entre xs e ys2\n",
        "correlation_xs_ys2 = np.corrcoef(xs, ys2)[0,1]\n",
        "print(f\"Correlação entre xs e ys2: {correlation_xs_ys2}\")\n"
      ],
      "metadata": {
        "id": "Pei8kqSpKhAy"
      },
      "execution_count": null,
      "outputs": []
    },
    {
      "cell_type": "code",
      "source": [
        "rotulo =  ['xs', 'ys1', 'ys2']\n",
        "vectors = [xs, ys1, ys2]\n",
        "\n",
        "ncolunas =3\n",
        "fig, ax = plt.subplots(ncolunas, ncolunas)\n",
        "\n",
        "for i in range(ncolunas):\n",
        "  for j in range(ncolunas):\n",
        "    # dispersa a column_j no eixo x versus column_i no eixo y\n",
        "    ax[i][j].scatter(vectors[i], vectors[j], marker='.', color='green')\n",
        "\n",
        "matrix = []\n",
        "for i in range(ncolunas):\n",
        "  linha = []\n",
        "  for j in range(ncolunas):\n",
        "     linha.append(np.corrcoef(vectors[i], vectors[j])[0,1])\n",
        "  matrix.append(linha)\n",
        "print(matrix)\n"
      ],
      "metadata": {
        "id": "Aw57EiQoQl09"
      },
      "execution_count": null,
      "outputs": []
    },
    {
      "cell_type": "code",
      "source": [
        "\n",
        "import pandas as pd\n",
        "print('Matrix de correlação')\n",
        "df = pd.DataFrame(matrix, columns=rotulo, index=rotulo)\n",
        "print(df)\n"
      ],
      "metadata": {
        "id": "nut0JDaX1mZW"
      },
      "execution_count": null,
      "outputs": []
    },
    {
      "cell_type": "markdown",
      "source": [
        "# Exercício de Correlação\n",
        "\n",
        "1) Um professor quer analisar a relação entre **horas de estudo** e **nota final** de 8 alunos, além de outras duas variáveis:\n",
        "\n",
        "| Aluno | Horas de estudo | Nota final | Horas de TV | Stress (1 a 10) |\n",
        "|-------|----------------|------------|-------------|----------------|\n",
        "| A     | 2              | 50         | 7           | 8              |\n",
        "| B     | 4              | 60         | 12          | 6              |\n",
        "| C     | 3              | 55         | 9           | 7              |\n",
        "| D     | 5              | 65         | 11          | 5              |\n",
        "| E     | 1              | 45         | 10          | 9              |\n",
        "| F     | 6              | 70         | 8           | 4              |\n",
        "| G     | 4              | 62         | 12          | 6              |\n",
        "| H     | 3              | 58         | 17          | 7              |\n",
        "\n",
        "\n",
        "**Usando a biblioteca from scipy.stats import pearsonr faça:**\n",
        "\n",
        "1. Plote o gráfico de dispersão das variáveis\n",
        "2. Avalie se existe correção entre as variáveis.  \n",
        "3. Interprete os valores da correlação.  \n",
        "\n",
        "\n",
        "\n",
        "<br><br><br>\n",
        "\n",
        "2) Uma empresa quer analisar a relação entre **satisfação dos clientes**, **frequência de compras** e **idade** durante o mês. Os dados de 8 clientes são:\n",
        "\n",
        "| Cliente | Satisfação (1 a 5) | Compras no mês | Idade (anos) |\n",
        "|---------|-------------------|----------------|--------------|\n",
        "| A       | 5                 | 10             | 34           |\n",
        "| B       | 4                 | 8              | 28           |\n",
        "| C       | 3                 | 6              | 40           |\n",
        "| D       | 2                 | 4              | 30           |\n",
        "| E       | 1                 | 3              | 27           |\n",
        "| F       | 4                 | 7              | 36           |\n",
        "| G       | 5                 | 9              | 33           |\n",
        "| H       | 3                 | 5              | 31           |\n",
        "\n",
        "\n",
        "\n",
        "### Perguntas\n",
        "**Utilizando a biblioteca from scipy.stats import spearmanr**\n",
        "\n",
        "1. Calcule a correlação de Spearman entre:  \n",
        "   - Satisfação × Compras  \n",
        "   - Idade × Compras  \n",
        "2. Interprete os valores da correlação.  \n",
        "3. Visualize os gráficos de dispersão mostrando a relação entre os ranks.\n"
      ],
      "metadata": {
        "id": "tZWe7p6BGpk-"
      }
    },
    {
      "cell_type": "markdown",
      "source": [
        "#Leitura de Arquivos.\n",
        "\n",
        "##Pandas: Biblioteca de manipulação de dados para o Python. Permite manipular um grande volume de dados de forma eficiente.\n",
        "\n",
        "\n"
      ],
      "metadata": {
        "id": "5sSX_JNBoRUt"
      }
    },
    {
      "cell_type": "markdown",
      "source": [],
      "metadata": {
        "id": "N_RT0vUn3fK1"
      }
    },
    {
      "cell_type": "markdown",
      "source": [
        "#Obter dados das ações da PETR4.\n"
      ],
      "metadata": {
        "id": "2_PaV5933oTd"
      }
    },
    {
      "cell_type": "code",
      "source": [
        "#!pip install yfinance\n",
        "import pandas as pd\n",
        "import yfinance as yf\n",
        "\n",
        "ticker = \"VALE3.SA\"  # Ticker da Petrobras na B3\n",
        "df = yf.download(ticker, period=\"5y\")\n",
        "print(df.head())\n",
        "\n",
        "\n"
      ],
      "metadata": {
        "id": "7XVHuxbU3fdu"
      },
      "execution_count": null,
      "outputs": []
    },
    {
      "cell_type": "code",
      "source": [],
      "metadata": {
        "id": "1ecnHepKCFWB"
      },
      "execution_count": null,
      "outputs": []
    },
    {
      "cell_type": "markdown",
      "source": [
        "#Manutenção e limpeza de dados\n",
        "\n",
        "## Tipo de arquivo: valores separados por tabulações\n",
        "\n",
        "\n",
        "https://github.com/xavecoding/pandas-essencial/blob/main/manipulacao_de_dadosipynb\n",
        "\n",
        "\n",
        "https://www.kaggle.com/datasets/matheusfreitag/gas-prices-in-brazil?resource=download\n",
        "\n",
        "\n",
        "Este dataset contém os registros dos preços médios semanais dos combustíveis do Brasil entre os anos de 2004 e 2019.\n",
        "Cada observação (registro/linha) consiste em um registro de preço aferido para um dado tipo de combustível em uma dada localidade do Brasil.\n",
        "Alguns dos principais atributos (colunas) do dataset são:\n",
        "\n",
        "'ESTADO', 'PRODUTO', 'NÚMERO DE POSTOS PESQUISADOS', 'PREÇO MÉDIO REVENDA'."
      ],
      "metadata": {
        "id": "7VrMtwOK_OjC"
      }
    },
    {
      "cell_type": "code",
      "source": [
        "import kagglehub\n",
        "\n",
        "# Download latest version\n",
        "path = kagglehub.dataset_download(\"matheusfreitag/gas-prices-in-brazil\")\n",
        "\n",
        "print(\"Path to dataset files:\", path)"
      ],
      "metadata": {
        "id": "yTGKI4zf_tpc"
      },
      "execution_count": null,
      "outputs": []
    },
    {
      "cell_type": "code",
      "source": [
        "\n",
        "df = pd.read_csv(path+'/2004-2021.tsv', delimiter='\\t')\n",
        "\n",
        "\n",
        "#Impressão das 10 primeiras linhas\n",
        "#print(df.head(5))\n",
        "\n",
        "#print(df.tail(5))\n",
        "\n",
        "#Imprimir o valor das colunas\n",
        "#print(df.columns.values)\n",
        "\n",
        "#Imprimir o metadados do DataFrame\n",
        "#print(df.info())\n",
        "\n",
        "\n",
        "#Imprimir as dimensões do dataframe\n",
        "#print(df.shape)\n",
        "\n",
        "df.describe()\n",
        "\n"
      ],
      "metadata": {
        "id": "jXzUPVofGuKu"
      },
      "execution_count": null,
      "outputs": []
    },
    {
      "cell_type": "markdown",
      "source": [
        "\n",
        "#Listando Colunas\n",
        "\n",
        "Quais são os Estados participantes na pesquisa?\n",
        "Quantos são os Estados?\n",
        "\n",
        "\n",
        "Estados =  df['ESTADOS'].unique()"
      ],
      "metadata": {
        "id": "MfInEOhpRNtZ"
      }
    },
    {
      "cell_type": "code",
      "source": [
        "print(df['ESTADO'])\n",
        "print(type(df['ESTADO']))\n",
        "\n",
        "Estados =  df['ESTADO'].unique()\n",
        "print(Estados)"
      ],
      "metadata": {
        "id": "001rja2iG0GQ"
      },
      "execution_count": null,
      "outputs": []
    },
    {
      "cell_type": "markdown",
      "source": [
        "#Exercício\n",
        "## Quais são os produtos incluidos nesta pesquisa?\n"
      ],
      "metadata": {
        "id": "uOd3iol8U8GZ"
      }
    },
    {
      "cell_type": "code",
      "source": [],
      "metadata": {
        "id": "W8Sb81JmbtuN"
      },
      "execution_count": null,
      "outputs": []
    },
    {
      "cell_type": "markdown",
      "source": [
        "#Filtrando\n",
        "Muitas vezes, queremos criar filtros para nossas análises.\n",
        "O exemplo abaixo apresenta um filtro os registro da pesquisa donde o estado é de São Paulo\n",
        "\n"
      ],
      "metadata": {
        "id": "MXRquTigSqLZ"
      }
    },
    {
      "cell_type": "code",
      "source": [
        "#Cria uma lista de valores verdadeiros e falso\n",
        "filtro = df['ESTADO'] == \"SAO PAULO\"\n",
        "\n",
        "#print(filtro)\n",
        "\n",
        "print(df[filtro])"
      ],
      "metadata": {
        "id": "jfmSH4R-SzM4"
      },
      "execution_count": null,
      "outputs": []
    },
    {
      "cell_type": "markdown",
      "source": [
        "#Lista dos registro de SAO PAULO e RIO DE JANEIRO"
      ],
      "metadata": {
        "id": "OH8nNiWHd97T"
      }
    },
    {
      "cell_type": "code",
      "source": [
        "Filtro = ['SAO PAULO', 'RIO DE JANEIRO']\n",
        "\n",
        "selecao = df['ESTADO'].isin(Filtro)\n",
        "\n",
        "print(df[selecao])"
      ],
      "metadata": {
        "id": "-Wp60vqXeKm6"
      },
      "execution_count": null,
      "outputs": []
    },
    {
      "cell_type": "markdown",
      "source": [
        "#Filtro composto\n",
        "\n",
        "##As vezes é necessário filtrar por mais de um parâmetro, como por exemplo Estado igual a SAO PAULO e Produto igual GLP\n",
        "\n"
      ],
      "metadata": {
        "id": "-NZqjEBKWDnP"
      }
    },
    {
      "cell_type": "code",
      "source": [
        "#Cria uma lista de valores verdadeiros e falso\n",
        "filtro_estado = df['ESTADO'] == \"SAO PAULO\"\n",
        "\n",
        "\n",
        "df_novo = df[filtro_estado]\n",
        "\n",
        "\n",
        "filtro_produto = df_novo['PRODUTO'] == 'GLP'\n",
        "#print(df_novo[filtro_produto])\n",
        "#print(filtro)\n",
        "\n",
        "filtro_total = filtro_estado & filtro_produto\n",
        "print(df[filtro_total])"
      ],
      "metadata": {
        "id": "XlsDVq96TIbB"
      },
      "execution_count": null,
      "outputs": []
    },
    {
      "cell_type": "markdown",
      "source": [
        "#Exercícios\n",
        "\n",
        "##Quais estados tiveram o combustível acima de 2 reais?\n",
        "\n",
        "## Quais são os combustíveis que ficaram acima de 2 reais?\n"
      ],
      "metadata": {
        "id": "rB4O_eDJbwJU"
      }
    },
    {
      "cell_type": "code",
      "source": [],
      "metadata": {
        "id": "T0LA6sb0Wnar"
      },
      "execution_count": null,
      "outputs": []
    },
    {
      "cell_type": "markdown",
      "source": [
        "#Percorrendo o Dataframe"
      ],
      "metadata": {
        "id": "wWXw6QUbcpA0"
      }
    },
    {
      "cell_type": "code",
      "source": [
        "for index, row in df.iterrows():\n",
        "  print(f\"{index} --> {row['NÚMERO DE POSTOS PESQUISADOS']}\")"
      ],
      "metadata": {
        "id": "9f3yTzaMfE6B"
      },
      "execution_count": null,
      "outputs": []
    },
    {
      "cell_type": "markdown",
      "source": [
        "#Buscando valores nulos\n",
        "\n",
        "## Valores Nan ou nan - Not a Number - por exemplo: divisao por zero, raiz quadrada de um número negativo, erros de conversão ou arredondamento;\n",
        "\n",
        "## Valores Nulo ou Null - Valores ausentes"
      ],
      "metadata": {
        "id": "UcrucugMgSCK"
      }
    },
    {
      "cell_type": "code",
      "source": [
        "print(df.columns.values)\n",
        "\n",
        "if 'NOVO CAMPO' in df.columns.values:\n",
        "  print('Entrou')\n",
        "  df.drop('NOVO CAMPO', axis=1, inplace=True)\n",
        "\n",
        "\n",
        "df['NOVO CAMPO'] = np.nan\n",
        "\n",
        "print('Nulos')\n",
        "print(df.isnull().sum())\n",
        "#print('Nan')\n",
        "#print(df.isna().sum())\n",
        "\n",
        "df['NOVO CAMPO'] = df['NOVO CAMPO'].fillna(0)\n",
        "#print('-----')\n",
        "#print(df.isnull().sum())\n",
        "\n",
        "for i in range(10):\n",
        "  df.iloc[i, df.columns.get_loc('NOVO CAMPO')] = np.nan\n",
        "\n",
        "#print(df.isnull().sum())\n",
        "#df['NOVO CAMPO'] = df['NOVO CAMPO'].fillna(0)\n",
        "\n",
        "for i in range(10,20):\n",
        "    df.iloc[i, df.columns.get_loc('NOVO CAMPO')] = np.nan\n",
        "\n",
        "#print(df.isna().sum())\n",
        "#print(df.isnull().sum())\n",
        "\n"
      ],
      "metadata": {
        "id": "-LPI6-uQgYaC"
      },
      "execution_count": null,
      "outputs": []
    },
    {
      "cell_type": "markdown",
      "source": [
        "# Acesso a dados em DataFrame Pandas\n",
        "\n",
        "| Método     | Base de seleção     | Aceita fatias | Útil para... |\n",
        "|-----------|------------------|---------------|-------------|\n",
        "| `loc`    | rótulo (label)     | Sim, inclui último | Seleção por nomes de linhas/colunas |\n",
        "| `iloc`   | posição (int)      | Sim, não inclui último | Seleção por índice numérico |\n",
        "| `at`     | rótulo             | Não           | Acessar valor único rapidamente |\n",
        "| `iat`    | posição            | Não           | Acessar valor único rapidamente |\n",
        "| `df[col]`| coluna             | Não           | Selecionar colunas inteiras |"
      ],
      "metadata": {
        "id": "4wW_EaygURBS"
      }
    },
    {
      "cell_type": "code",
      "source": [
        "import pandas as pd\n",
        "\n",
        "df = pd.DataFrame({\n",
        "    'A': [10, 20, 30],\n",
        "    'B': [40, 50, 60]\n",
        "}, index=['x', 'y', 'z'])\n",
        "\n",
        "# Usando loc (por rótulo)\n",
        "df.loc['y', 'B']      # 50\n",
        "df.loc[['x','z'], :]  # seleciona linhas x e z\n",
        "\n",
        "# Usando iloc (por posição)\n",
        "df.iloc[1,1]          # 50\n",
        "df.iloc[0:2, 0:2]     # fatia pelas posições\n",
        "\n",
        "# Usando at / iat (rápido para 1 valor)\n",
        "df.at['y','B']        # 50\n",
        "df.iat[1,1]           # 50\n",
        "\n",
        "# Seleção de coluna\n",
        "df['A']               # retorna coluna A inteira"
      ],
      "metadata": {
        "id": "mF8wgm9SUSAo"
      },
      "execution_count": null,
      "outputs": []
    }
  ]
}