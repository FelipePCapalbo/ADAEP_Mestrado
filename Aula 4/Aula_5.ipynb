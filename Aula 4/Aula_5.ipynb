{
  "nbformat": 4,
  "nbformat_minor": 0,
  "metadata": {
    "colab": {
      "provenance": []
    },
    "kernelspec": {
      "name": "python3",
      "display_name": "Python 3"
    },
    "language_info": {
      "name": "python"
    }
  },
  "cells": [
    {
      "cell_type": "markdown",
      "source": [
        "#Análise da Base de Dados"
      ],
      "metadata": {
        "id": "I_EekZQrTC0H"
      }
    },
    {
      "cell_type": "markdown",
      "source": [
        "##Imports\n",
        "\n",
        "\n",
        "| Pacote                   | Descrição                                                                                          | Principais usos                                                                                 |\n",
        "|---------------------------|---------------------------------------------------------------------------------------------------|--------------------------------------------------------------------------------------------------|\n",
        "| **kagglehub**             | Biblioteca para acessar e baixar datasets diretamente do Kaggle.                                  | Buscar e fazer download de conjuntos de dados hospedados no Kaggle.                              |\n",
        "| **pandas (pd)**            | Biblioteca para análise e manipulação de dados estruturados (tabelas, séries temporais etc.).      | Leitura e escrita de arquivos (CSV, Excel, SQL), limpeza e transformação de dados, criação de DataFrames. |\n",
        "| **numpy (np)**              | Biblioteca para computação numérica eficiente com suporte a arrays multidimensionais.             | Operações matemáticas e estatísticas rápidas sobre arrays e matrizes, álgebra linear, geração de números aleatórios. |\n",
        "| **seaborn (sns)**             | Biblioteca de visualização de dados baseada no Matplotlib, com foco em estatísticas.              | Criar gráficos estatísticos sofisticados e esteticamente agradáveis com pouco código.             |\n",
        "| **plotly.express (px)**      | Módulo de alto nível da biblioteca Plotly para gráficos interativos.                              | Criar gráficos interativos (linhas, barras, mapas, dispersão etc.) de forma simples.              |\n",
        "| **matplotlib.pyplot (plt)**  | Biblioteca base para visualizações gráficas em Python.                                           | Criar gráficos estáticos e personalizáveis (linhas, barras, histogramas, dispersão etc.).         |\n",
        "| **fitter**                    | Biblioteca para ajustar distribuições estatísticas a dados empíricos.                             | Testar quais distribuições teóricas (normal, exponencial, etc.) melhor se ajustam a um conjunto de dados. |\n",
        "| **scipy.stats**                | Submódulo do SciPy para estatística e probabilidade.                                              | Calcular estatísticas descritivas, testar hipóteses, gerar e ajustar distribuições de probabilidade. |\n"
      ],
      "metadata": {
        "id": "gYAB3rzpXDNx"
      }
    },
    {
      "cell_type": "code",
      "execution_count": null,
      "metadata": {
        "id": "Ou1csdoLS_Hp"
      },
      "outputs": [],
      "source": [
        "import kagglehub\n",
        "import pandas as pd\n",
        "import numpy as np\n",
        "import seaborn as sns\n",
        "import plotly.express as px\n",
        "import matplotlib.pyplot as plt\n",
        "from fitter import Fitter, get_common_distributions, get_distributions\n",
        "from scipy import stats"
      ]
    },
    {
      "cell_type": "markdown",
      "source": [
        "#Base de Dados\n",
        "\n",
        "https://www.kaggle.com/datasets/laotse/credit-risk-dataset\n",
        "\n",
        "Descrição do Dataset – Credit Risk Dataset\n",
        "\n",
        "O dataset Credit Risk Dataset contém informações simuladas sobre pessoas que solicitaram empréstimos. Ele é usado para analisar risco de crédito, ou seja, prever se alguém provavelmente pagará ou não o empréstimo.\n",
        "\n",
        "Os dados incluem características das pessoas, como idade, renda, tipo de moradia, tempo de emprego, além de informações sobre o empréstimo, como valor, finalidade e taxa de juros. Também contém o histórico financeiro do solicitante, indicando se já teve problemas com crédito no passado.\n",
        "\n",
        "\n",
        "| Coluna                         | O que representa                                                                 |\n",
        "|--------------------------------|--------------------------------------------------------------------------------|\n",
        "| person_age                     | Idade da pessoa que solicitou o crédito                                         |\n",
        "| person_income                  | Renda mensal da pessoa                                                         |\n",
        "| person_home_ownership          | Tipo de moradia da pessoa (alugada, própria, hipoteca, etc.)                   |\n",
        "| person_emp_length              | Tempo de trabalho da pessoa                                                    |\n",
        "| loan_intent                    | Finalidade do empréstimo                                                       |\n",
        "| loan_grade                     | Classificação ou grau do empréstimo                                           |\n",
        "| loan_amnt                      | Valor do empréstimo solicitado                                                |\n",
        "| loan_int_rate                  | Taxa de juros do empréstimo                                                   |\n",
        "| loan_percent_income            | Percentual que o valor do empréstimo representa da renda da pessoa            |\n",
        "| cb_person_default_on_file      | Indica se a pessoa já teve problemas de crédito registrados anteriormente     |\n",
        "| cb_person_cred_hist_length     | Tempo de histórico de crédito da pessoa                                       |\n",
        "| loan_status                    | Situação do empréstimo (pago ou inadimplente) – é o campo que se tenta prever |\n"
      ],
      "metadata": {
        "id": "KI4DxvsQXmjE"
      }
    },
    {
      "cell_type": "markdown",
      "source": [
        "1: Faça o download do dataset\n",
        "\n"
      ],
      "metadata": {
        "id": "nwrpjKCMY9TV"
      }
    },
    {
      "cell_type": "markdown",
      "source": [
        "2: Abra no pandas e liste dos 10 primeiros registros"
      ],
      "metadata": {
        "id": "m4luavHNZ8jM"
      }
    },
    {
      "cell_type": "markdown",
      "source": [
        "3: Faça a tradução das colunas\n",
        "\n",
        "| Coluna original                 | Coluna traduzida                  |\n",
        "|---------------------------------|----------------------------------|\n",
        "| person_age                       | idade_pessoa                     |\n",
        "| person_income                    | renda_pessoa                     |\n",
        "| person_home_ownership            | tipo_residencia                  |\n",
        "| person_emp_length                | tempo_emprego_anos               |\n",
        "| loan_intent                      | finalidade_emprestimo            |\n",
        "| loan_grade                       | classificacao_emprestimo         |\n",
        "| loan_amnt                        | valor_emprestimo                 |\n",
        "| loan_int_rate                    | taxa_juros_emprestimo            |\n",
        "| loan_status                      | status_emprestimo                |\n",
        "| loan_percent_income              | percentual_renda_comprometida    |\n",
        "| cb_person_default_on_file        | historico_inadimplencia          |\n",
        "| cb_person_cred_hist_length       | tempo_historico_credito_anos     |\n"
      ],
      "metadata": {
        "id": "4-bRsD3UZ-6s"
      }
    },
    {
      "cell_type": "markdown",
      "source": [
        "4: Faça a tradução dos valores.\n",
        "| Coluna                     | Valor original           | Valor traduzido            |\n",
        "|-----------------------------|-------------------------|---------------------------|\n",
        "| tipo_residencia             | RENT                    | Aluguel                   |\n",
        "| tipo_residencia             | OWN                     | Própria                   |\n",
        "| tipo_residencia             | MORTGAGE                | Hipoteca                  |\n",
        "| tipo_residencia             | OTHER                   | Outro                     |\n",
        "| finalidade_emprestimo       | PERSONAL                | Pessoal                   |\n",
        "| finalidade_emprestimo       | EDUCATION               | Educação                  |\n",
        "| finalidade_emprestimo       | MEDICAL                 | Médico                    |\n",
        "| finalidade_emprestimo       | VENTURE                 | Empreendimento            |\n",
        "| finalidade_emprestimo       | HOMEIMPROVEMENT         | Reforma Residencial       |\n",
        "| finalidade_emprestimo       | DEBTCONSOLIDATION       | Consolidação de Dívidas   |\n",
        "| historico_inadimplencia     | Y                       | Sim                       |\n",
        "| historico_inadimplencia     | N                       | Não                       |\n"
      ],
      "metadata": {
        "id": "R99t9r3jaopB"
      }
    },
    {
      "cell_type": "markdown",
      "source": [
        "5: Lista os 10 primeiros registros\n"
      ],
      "metadata": {
        "id": "Qnx07NTubYMe"
      }
    },
    {
      "cell_type": "markdown",
      "source": [
        "6: Faça uma análise rápida do dataset utilizando os comandos describe(), info(), isnull.sum()"
      ],
      "metadata": {
        "id": "1QqI3a8YcBCS"
      }
    },
    {
      "cell_type": "markdown",
      "source": [],
      "metadata": {
        "id": "Xnx9E319cT6U"
      }
    },
    {
      "cell_type": "markdown",
      "source": [
        "7: Faça um tabela para mostrar a quantidade de devedores e qual esse percentual?"
      ],
      "metadata": {
        "id": "bZVXJTTDdFA5"
      }
    },
    {
      "cell_type": "markdown",
      "source": [
        "8: Imprima um gráfico de barras sobre o status do emprestimo (Devedores e não devedores) countplot do seaborn (sns).\n",
        "```python\n",
        "ax = sns.countplot(\n",
        "      x='status_emprestimo',  #Eixo X\n",
        "      hue='status_emprestimo', #Categorias\n",
        "      data=df_traduzido,  #DataFrame\n",
        ")"
      ],
      "metadata": {
        "id": "jfqEjavtex99"
      }
    },
    {
      "cell_type": "markdown",
      "source": [
        "9: Faça o gráfico de devedores e não devedores por tipo de residência."
      ],
      "metadata": {
        "id": "ZlKMBTODhEeM"
      }
    },
    {
      "cell_type": "markdown",
      "source": [
        "10: Faça um histograma da renda dos envolvidos e analise."
      ],
      "metadata": {
        "id": "JKpqD1g0hQZd"
      }
    },
    {
      "cell_type": "markdown",
      "source": [
        "11: Retirada dos outlier"
      ],
      "metadata": {
        "id": "PTjS_pDYj1dW"
      }
    },
    {
      "cell_type": "markdown",
      "source": [
        "12: Verifique a qualidade dos campos idade, taxa de juros, tempo_emprego_anos\te taxa_juros_emprestimo."
      ],
      "metadata": {
        "id": "6gcZunGj-mIi"
      }
    },
    {
      "cell_type": "markdown",
      "source": [
        "\n",
        "13: Faça o gráfico de dispersão entre 'idade_pessoa', 'renda_pessoa', 'valor_emprestimo'.\n"
      ],
      "metadata": {
        "id": "i0w6xd7A8paF"
      }
    },
    {
      "cell_type": "markdown",
      "source": [
        "14: Identifique e trate os valores nulos;\n"
      ],
      "metadata": {
        "id": "a4pcCbgj892n"
      }
    },
    {
      "cell_type": "markdown",
      "source": [],
      "metadata": {
        "id": "F3YOhFVB-9S0"
      }
    },
    {
      "cell_type": "code",
      "source": [],
      "metadata": {
        "id": "89jkZA4_fwWt"
      },
      "execution_count": null,
      "outputs": []
    },
    {
      "cell_type": "code",
      "source": [],
      "metadata": {
        "id": "efMkfRAgaa7Q"
      },
      "execution_count": null,
      "outputs": []
    }
  ]
}